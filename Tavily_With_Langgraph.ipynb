{
 "cells": [
  {
   "cell_type": "code",
   "execution_count": 10,
   "id": "2a53941f-f442-4267-94c1-0a264d37da3c",
   "metadata": {},
   "outputs": [],
   "source": [
    "from langgraph.graph import StateGraph, START, END\n",
    "from typing import Dict, List, Annotated, TypedDict, Union\n",
    "from IPython.display import Image, display\n",
    "from tavily import TavilyClient\n",
    "import json"
   ]
  },
  {
   "cell_type": "code",
   "execution_count": 27,
   "id": "4599e177-996c-425a-9e3a-362ea04e957f",
   "metadata": {},
   "outputs": [],
   "source": [
    "# Define types for type safety\n",
    "class SearchState(TypedDict):\n",
    "    query: str\n",
    "    basic_result: dict\n",
    "    score: int\n",
    "    status: str\n",
    "\n",
    "# Initialize Tavily client\n",
    "tavily_client = TavilyClient(\"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\")\n",
    "\n",
    "def initialize(state: SearchState):\n",
    "    \"\"\"Initialize the workflow and validate input.\"\"\"\n",
    "    print(f\"Starting search for query: {state['query']}\")\n",
    "    return {\n",
    "        \"status\": \"initialized\"\n",
    "    }\n",
    "\n",
    "def basic_search(state : SearchState):\n",
    "    print(\"\\n === Performing Basic Web Search ===\")\n",
    "    response = tavily_client.search(\n",
    "        query = state['query'],\n",
    "        search_depth = \"basic\",\n",
    "        max_result = 1\n",
    "    )\n",
    "    answer = response[\"results\"][0]\n",
    "    score = response['results'][0].get(\"score\")\n",
    "\n",
    "    return {\n",
    "        \"basic_result\" : answer,\n",
    "        \"score\": score,\n",
    "        \"status\": \"search_completed\"\n",
    "    }\n",
    "\n",
    "def basic_search_display(state : SearchState):\n",
    "    print(\"\\n ===== Basic Search Results =====\")\n",
    "    result = state['basic_result']\n",
    "    print(f\"Title:{result.get('title','N/A')}\")\n",
    "    print(f\"URL:{result.get('url','N/A')}\")\n",
    "    print(f\"Content Preview:{result.get('content','N/A')[:300]}\")\n",
    "    print(state['score'])\n",
    "\n",
    "    return{\n",
    "        \"status\": \"display_complete\"\n",
    "    }\n",
    "\n",
    "def router(state : SearchState):\n",
    "    if state['status'] == 'initialized':\n",
    "        return \"basic_search\"\n",
    "    elif state['status'] == 'search_complete':\n",
    "        return 'basic_search_display'\n",
    "    elif state['status'] == 'display_complete':\n",
    "        return END\n",
    "    return END"
   ]
  },
  {
   "cell_type": "code",
   "execution_count": 28,
   "id": "f5647f16-4671-4aab-bd70-cd5fdea7239c",
   "metadata": {},
   "outputs": [],
   "source": [
    "workflow = StateGraph(SearchState)"
   ]
  },
  {
   "cell_type": "code",
   "execution_count": 29,
   "id": "26a8367e-621c-4f42-ab63-5993996da84d",
   "metadata": {},
   "outputs": [
    {
     "data": {
      "text/plain": [
       "<langgraph.graph.state.StateGraph at 0x11b018510>"
      ]
     },
     "execution_count": 29,
     "metadata": {},
     "output_type": "execute_result"
    }
   ],
   "source": [
    "workflow.add_node(\"initialize\",initialize)\n",
    "workflow.add_node(\"basic_search\",basic_search)\n",
    "workflow.add_node(\"basic_search_display\",basic_search_display)"
   ]
  },
  {
   "cell_type": "code",
   "execution_count": 30,
   "id": "f58ab194-29ca-4455-8352-db360083959c",
   "metadata": {},
   "outputs": [
    {
     "data": {
      "text/plain": [
       "<langgraph.graph.state.StateGraph at 0x11b018510>"
      ]
     },
     "execution_count": 30,
     "metadata": {},
     "output_type": "execute_result"
    }
   ],
   "source": [
    "workflow.set_entry_point(\"initialize\")"
   ]
  },
  {
   "cell_type": "code",
   "execution_count": 31,
   "id": "fa0b5704-54f6-42ae-811d-0c9fa161c32f",
   "metadata": {},
   "outputs": [
    {
     "data": {
      "text/plain": [
       "<langgraph.graph.state.StateGraph at 0x11b018510>"
      ]
     },
     "execution_count": 31,
     "metadata": {},
     "output_type": "execute_result"
    }
   ],
   "source": [
    "workflow.add_conditional_edges(\n",
    "    \"initialize\",\n",
    "    router,\n",
    "    {\n",
    "        \"basic_search\": \"basic_search\",\n",
    "        END:END\n",
    "    }\n",
    ")"
   ]
  },
  {
   "cell_type": "code",
   "execution_count": 32,
   "id": "37f7c405-9c70-49c7-897a-3da1bdc4024d",
   "metadata": {},
   "outputs": [
    {
     "data": {
      "text/plain": [
       "<langgraph.graph.state.StateGraph at 0x11b018510>"
      ]
     },
     "execution_count": 32,
     "metadata": {},
     "output_type": "execute_result"
    }
   ],
   "source": [
    "workflow.add_conditional_edges(\n",
    "    \"basic_search\",\n",
    "    router,\n",
    "    {\n",
    "        \"basic_search_display\": \"basic_search_display\",\n",
    "        END:END\n",
    "    }\n",
    ")"
   ]
  },
  {
   "cell_type": "code",
   "execution_count": 33,
   "id": "db765857-4565-4d8f-90e7-198c20631878",
   "metadata": {},
   "outputs": [
    {
     "data": {
      "text/plain": [
       "<langgraph.graph.state.StateGraph at 0x11b018510>"
      ]
     },
     "execution_count": 33,
     "metadata": {},
     "output_type": "execute_result"
    }
   ],
   "source": [
    "workflow.add_conditional_edges(\n",
    "    \"basic_search_display\",\n",
    "    router,\n",
    "    {\n",
    "        END:END\n",
    "    }\n",
    ")"
   ]
  },
  {
   "cell_type": "code",
   "execution_count": 34,
   "id": "eba8a0e7-7794-4eb2-ba30-edaecc7682c9",
   "metadata": {},
   "outputs": [],
   "source": [
    "graph = workflow.compile()"
   ]
  },
  {
   "cell_type": "code",
   "execution_count": 35,
   "id": "577f984e-6874-4b3f-b9e4-8af655c55f40",
   "metadata": {},
   "outputs": [
    {
     "data": {
      "image/png": "[encoded data removed]",
      "text/plain": [
       "<IPython.core.display.Image object>"
      ]
     },
     "metadata": {},
     "output_type": "display_data"
    }
   ],
   "source": [
    "display(Image(graph.get_graph(xray=True).draw_mermaid_png()))"
   ]
  },
  {
   "cell_type": "code",
   "execution_count": 40,
   "id": "7fe5b902-7b49-4731-8e10-cf962d365676",
   "metadata": {},
   "outputs": [],
   "source": [
    "query = 'What is latest LLM model released Nvedia ?'"
   ]
  },
  {
   "cell_type": "code",
   "execution_count": 41,
   "id": "41f71cd8-d5ea-4904-bd03-ba9c294c5e49",
   "metadata": {},
   "outputs": [],
   "source": [
    "initial_state = SearchState(query=query, basic_result={},status='init')"
   ]
  },
  {
   "cell_type": "code",
   "execution_count": 42,
   "id": "1076d17a-f6c6-4771-80ba-99dcd6507b42",
   "metadata": {},
   "outputs": [
    {
     "name": "stdout",
     "output_type": "stream",
     "text": [
      "Starting search for query: What is latest LLM model released Nvedia ?\n",
      "\n",
      " === Performing Basic Web Search ===\n"
     ]
    },
    {
     "data": {
      "text/plain": [
       "{'query': 'What is latest LLM model released Nvedia ?',\n",
       " 'basic_result': {'title': \"A Walkthrough of Nvidia's Latest Multi-Modal LLM Family\",\n",
       "  'url': 'https://dsssolutions.com/2024/10/10/a-walkthrough-of-nvidias-latest-multi-modal-llm-family/',\n",
       "  'content': 'Just last month, Nvidia released their open-source multi-modal LLM family called NVLM. The family comprises three architectures: a) decoder-based, b) cross-attention-based, and c) hybrid. The decoder-based model takes both the image and text tokens to a pre-trained LLM, such as the LLaVA model.',\n",
       "  'score': 0.7750779,\n",
       "  'raw_content': None},\n",
       " 'score': 0.7750779,\n",
       " 'status': 'search_completed'}"
      ]
     },
     "execution_count": 42,
     "metadata": {},
     "output_type": "execute_result"
    }
   ],
   "source": [
    "graph.invoke(initial_state)"
   ]
  },
  {
   "cell_type": "code",
   "execution_count": 43,
   "id": "3718b896-0f79-4e01-9bde-51d1045161b0",
   "metadata": {},
   "outputs": [
    {
     "name": "stdout",
     "output_type": "stream",
     "text": [
      "CPU times: user 7 μs, sys: 0 ns, total: 7 μs\n",
      "Wall time: 11 μs\n"
     ]
    }
   ],
   "source": [
    "%%time\n",
    "query2 = 'How to rename column name in pandas ?'\n",
    "initial_state2 = SearchState(query=query2, basic_result={},status='init')"
   ]
  },
  {
   "cell_type": "code",
   "execution_count": 44,
   "id": "2e957f8e-0d35-4111-86c4-ab46aa861931",
   "metadata": {},
   "outputs": [
    {
     "name": "stdout",
     "output_type": "stream",
     "text": [
      "Starting search for query: How to rename column name in pandas ?\n",
      "\n",
      " === Performing Basic Web Search ===\n",
      "CPU times: user 14.1 ms, sys: 5.21 ms, total: 19.3 ms\n",
      "Wall time: 3.1 s\n"
     ]
    },
    {
     "data": {
      "text/plain": [
       "{'query': 'How to rename column name in pandas ?',\n",
       " 'basic_result': {'title': 'How to rename columns in Pandas DataFrame - GeeksforGeeks',\n",
       "  'url': 'https://www.geeksforgeeks.org/how-to-rename-columns-in-pandas-dataframe/',\n",
       "  'content': 'In this article, we will see how to rename column in Pandas DataFrame. The simplest way to rename columns in a Pandas DataFrame is to use the rename() function. This method allows renaming specific columns by passing a dictionary, where keys are the old column names and values are the new column names.',\n",
       "  'score': 0.91901255,\n",
       "  'raw_content': None},\n",
       " 'score': 0.91901255,\n",
       " 'status': 'search_completed'}"
      ]
     },
     "execution_count": 44,
     "metadata": {},
     "output_type": "execute_result"
    }
   ],
   "source": [
    "%%time\n",
    "graph.invoke(initial_state2)"
   ]
  },
  {
   "cell_type": "code",
   "execution_count": null,
   "id": "fb0451fb-ca16-4056-a63f-45a80cc74ca8",
   "metadata": {},
   "outputs": [],
   "source": []
  }
 ],
 "metadata": {
  "kernelspec": {
   "display_name": "Python 3 (ipykernel)",
   "language": "python",
   "name": "python3"
  },
  "language_info": {
   "codemirror_mode": {
    "name": "ipython",
    "version": 3
   },
   "file_extension": ".py",
   "mimetype": "text/x-python",
   "name": "python",
   "nbconvert_exporter": "python",
   "pygments_lexer": "ipython3",
   "version": "3.13.1"
  }
 },
 "nbformat": 4,
 "nbformat_minor": 5
}
